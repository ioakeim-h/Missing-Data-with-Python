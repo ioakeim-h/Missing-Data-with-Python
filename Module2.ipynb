{
 "cells": [
  {
   "cell_type": "markdown",
   "metadata": {},
   "source": [
    "# Module 2: Missing Mechanisms"
   ]
  },
  {
   "cell_type": "markdown",
   "metadata": {},
   "source": [
    "Knowing how to handle missing data is crucial for preventing biased insights. Bias occurs when the model favors specific outcomes or predictions that might not be an accurate reflection of the entire population. To illustrate this, consider a dataset that includes information about people's income. In this dataset, you observe that individuals with lower income are less likely to disclose their salary. As a response, you decide to remove all rows from the dataset that have missing income values. By removing the data of those who chose not to reveal their income, you unintentionally create a skewed representation of the population. The dataset you're left with might mainly include higher-income individuals who were willing to disclose their earnings. In such a case, the model may unintentionally exhibit a bias towards higher-income individuals when making predictions.\n",
    "\n",
    "So what do we need to know for dealing with missing data effectively? The first step is understanding the reason behind the missingness."
   ]
  },
  {
   "cell_type": "markdown",
   "metadata": {},
   "source": [
    "## Missing Mechanisms"
   ]
  },
  {
   "cell_type": "markdown",
   "metadata": {},
   "source": [
    "Missing mechanisms refer to the underlying reasons or processes that result in missing data within a dataset. There are three missing mechanisms:\n",
    "\n",
    "<strong>Missing Completely at Random (MCAR):</strong> In the MCAR mechanism, the missingness occurs randomly and is unrelated to both observed and unobserved variables. This means that the probability of missing data is the same for all data points, regardless of their values.\n",
    "\n",
    "Imagine a survey where participants are asked to rate their satisfaction with a product on a scale of 1 to 10. However, due to a technical glitch, some participants' responses are missing completely randomly. This means that the missingness is unrelated to any factors, such as age, gender, or product satisfaction itself. \n",
    "\n",
    "<strong>Missing at Random (MAR):</strong> MAR occurs when the missingness is dependent only on the observed variables in the dataset but not on the missing values themselves or unobserved variables. In this mechanism, the missingness is related to the available data, allowing us to analyze the missing data based on observed characteristics. MAR implies that the probability of missing data can be explained or predicted by observed variables in the dataset.\n",
    "\n",
    "Consider a study investigating the effects of exercise on health outcomes. Participants were asked to report their exercise duration, age, and body mass index (BMI). However, some participants with higher BMIs chose not to disclose their exercise duration. In this case, the missingness of exercise duration depends only on the observed variable (BMI), not on the unobserved exercise duration itself. \n",
    "\n",
    "<strong>Missing Not at Random (MNAR):</strong> MNAR describes a situation where the missingness is related to the unobserved data or missing values themselves. In this mechanism, the missingness is not explained by the observed variables in the dataset. The missingness can be driven by the specific values or characteristics that are missing.\n",
    "\n",
    "Let's say there is a study examining academic performance, and students were asked to disclose their grades, but some students with lower grades intentionally refuse to report them. Here, the missingness of grades is related to the unobserved variable (low grades) itself. The missingness is not random but driven by the specific values or characteristics (low grades) that are missing. "
   ]
  },
  {
   "cell_type": "markdown",
   "metadata": {},
   "source": [
    "### Exercise\n",
    "\n",
    "Imagine you're working on a jigsaw puzzle that depicts a mysterious landscape. However, some pieces of the puzzle are missing. These missing pieces can occur due to different mechanisms, which have distinct implications for your puzzle-solving. In the following scenarios, try to identify the underlying mechanism that causes the pieces to be missing:\n",
    "\n",
    "<!--MAR-->\n",
    "1. Some pieces of a certain color are missing. Those particular pieces got stuck together and were accidentally lost. The missingness is related to the color of the pieces but not to the overall picture. In data terms, the missingness is related to other observed variables. You could still complete the puzzle by focusing on the other colors.\n",
    "\n",
    "<strong>Answer:</strong> MAR <br>\n",
    "As we will see later, multiple imputation is an effective method for handling MAR data. This method considers relationships between observed variables and missing data. In the context of the exercise, multiple imputation would allow us to guess the missing pieces based on the available colors.\n",
    "\n",
    "\n",
    "<!--MCAR-->\n",
    "2. The missing pieces are scattered randomly across the puzzle. It's like as if a gust of wind blew some pieces away. This missingness doesn't convey any information about the puzzle or its picture. You can work on the puzzle with the available pieces, and your final picture might still be a reasonable representation of the landscape. \n",
    "\n",
    "<strong>Answer:</strong> MCAR <br>\n",
    "For MCAR situations, you might opt for simple methods like listwise deletion (i.e. dropping rows with missing values).\n",
    "Listwise deletion involves ignoring the incomplete pieces and only working with those that are available. Since the missingness is random, this method could provide reasonable results without significantly distorting the overall picture.\n",
    "\n",
    "\n",
    "<!--MNAR-->\n",
    "1. A few pieces from a specific part of the puzzle are missing. These pieces contain a hidden treasure in the landscape, so whoever has those pieces hides them intentionally. The missingness is directly related to the information contained in those pieces. In data analysis, this occurs when the probability of missing data is influenced by unobserved values.\n",
    "\n",
    "<strong>Answer:</strong> MNAR <br>\n",
    "Other more advanced methods like pattern mixture models were specifically designed to handle MNAR data. However, multiple imputation can still be used to handle MNAR data, although the imputation model would be considerably more complex. \n"
   ]
  }
 ],
 "metadata": {
  "kernelspec": {
   "display_name": "base",
   "language": "python",
   "name": "python3"
  },
  "language_info": {
   "name": "python",
   "version": "3.9.12"
  },
  "orig_nbformat": 4
 },
 "nbformat": 4,
 "nbformat_minor": 2
}
